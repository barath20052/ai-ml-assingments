{
 "cells": [
  {
   "cell_type": "code",
   "execution_count": null,
   "id": "2e8e9c3a-95ce-447e-843a-86068255acc0",
   "metadata": {},
   "outputs": [],
   "source": [
    "                                                    #NUMPY"
   ]
  },
  {
   "cell_type": "code",
   "execution_count": null,
   "id": "d9971dda-5794-4d85-9c41-aa9be11effeb",
   "metadata": {},
   "outputs": [],
   "source": [
    "numpy will store data in continous memory blocks,making them super fast for calculation"
   ]
  },
  {
   "cell_type": "code",
   "execution_count": 3,
   "id": "cd0d3bbb-b37c-4722-9355-489cac9c892b",
   "metadata": {},
   "outputs": [],
   "source": [
    "import numpy as np"
   ]
  },
  {
   "cell_type": "code",
   "execution_count": 2,
   "id": "e481ef4e-1c5b-45ee-85f0-333409659bab",
   "metadata": {},
   "outputs": [],
   "source": [
    "import time"
   ]
  },
  {
   "cell_type": "code",
   "execution_count": 5,
   "id": "fac0cae6-5e75-4123-b9c2-1398423b9ea5",
   "metadata": {},
   "outputs": [
    {
     "name": "stdout",
     "output_type": "stream",
     "text": [
      "numpy array time: 0.002263784408569336\n"
     ]
    }
   ],
   "source": [
    "# numpy array\n",
    "array_data = np.arange(1_00_000)\n",
    "start = time.time()\n",
    "sum_array = array_data*2\n",
    "end = time.time()\n",
    "print(\"numpy array time:\",end - start)"
   ]
  },
  {
   "cell_type": "markdown",
   "id": "f110f5a5-1852-4cac-8f2e-d89971717462",
   "metadata": {},
   "source": [
    "## creating of arrays in numpy:\n",
    "\n",
    "numpy as several arrays:\n",
    "1.np.arrays() = create a list from a python list\n",
    "2.np.zeros() =  all zeros\n",
    "3.np.ones() = all ones\n",
    "4.np.arange() = range of numbers(like python range)\n",
    "5.np.linspace() = evenly spaced numbers between two points\n",
    "\n"
   ]
  },
  {
   "cell_type": "code",
   "execution_count": 6,
   "id": "5f57a65b-b8f7-4a44-8764-7cfd2203e123",
   "metadata": {},
   "outputs": [
    {
     "name": "stdout",
     "output_type": "stream",
     "text": [
      "[1 2 3]\n"
     ]
    }
   ],
   "source": [
    "array1 = np.array([1,2,3])\n",
    "print(array1)"
   ]
  },
  {
   "cell_type": "code",
   "execution_count": 8,
   "id": "bff64d2d-be99-4bd0-aeec-575bf565dc49",
   "metadata": {},
   "outputs": [
    {
     "name": "stdout",
     "output_type": "stream",
     "text": [
      "[[0. 0. 0. 0. 0. 0. 0.]\n",
      " [0. 0. 0. 0. 0. 0. 0.]\n",
      " [0. 0. 0. 0. 0. 0. 0.]\n",
      " [0. 0. 0. 0. 0. 0. 0.]\n",
      " [0. 0. 0. 0. 0. 0. 0.]]\n"
     ]
    }
   ],
   "source": [
    "zero=np.zeros((5,7))\n",
    "print(zero)"
   ]
  },
  {
   "cell_type": "code",
   "execution_count": 14,
   "id": "c071e29f-d9c1-4a61-ae91-707c81174632",
   "metadata": {},
   "outputs": [
    {
     "name": "stdout",
     "output_type": "stream",
     "text": [
      "[[1. 1. 1.]\n",
      " [1. 1. 1.]]\n"
     ]
    }
   ],
   "source": [
    "ones = np.ones((2,3))\n",
    "print(ones)"
   ]
  },
  {
   "cell_type": "code",
   "execution_count": 15,
   "id": "a68017f0-7041-400b-8d79-44aa52e8c77a",
   "metadata": {},
   "outputs": [
    {
     "name": "stdout",
     "output_type": "stream",
     "text": [
      "[0 2 4 6 8]\n"
     ]
    }
   ],
   "source": [
    "range = np.arange(0,10,2)\n",
    "print(range)"
   ]
  },
  {
   "cell_type": "code",
   "execution_count": 19,
   "id": "03500ce0-8398-4acd-95c3-becd0afefd29",
   "metadata": {},
   "outputs": [
    {
     "name": "stdout",
     "output_type": "stream",
     "text": [
      "[0.   0.25 0.5  0.75 1.  ]\n"
     ]
    }
   ],
   "source": [
    "linspace = np.linspace(0,   1,   5)\n",
    "print(linspace)"
   ]
  },
  {
   "cell_type": "code",
   "execution_count": 23,
   "id": "747c4f35-fee4-4464-b8fd-03f42d009b80",
   "metadata": {},
   "outputs": [
    {
     "name": "stdout",
     "output_type": "stream",
     "text": [
      "[12 13 14 15]\n",
      "[20 30 40 50]\n",
      "[ 4  7 10 13]\n",
      "[ 4 12 24 40]\n"
     ]
    }
   ],
   "source": [
    "#array operations\n",
    "arr = np.array([2,3,4,5])\n",
    "\n",
    "#scalar operation:\n",
    "print(arr + 10) #adds 10 to each element\n",
    "print(arr * 10)# multiply 10 to each element\n",
    "\n",
    "#element wise operation\n",
    "arr1 = np.array([2,4,6,8])\n",
    "print(arr + arr1)\n",
    "print(arr * arr1)"
   ]
  },
  {
   "cell_type": "code",
   "execution_count": 35,
   "id": "92063583-289a-407b-9326-3f7857c20747",
   "metadata": {},
   "outputs": [
    {
     "name": "stdout",
     "output_type": "stream",
     "text": [
      "first row: [50 60 70 80]\n",
      "element at: 20\n"
     ]
    }
   ],
   "source": [
    "## indexing and slicing\n",
    "\n",
    "# creating a multi dimensional(2D) sliccing (with row and co;umns)matrix\n",
    "#1.indexing\n",
    "arr = np.array([[2,3,4,5],\n",
    "                [10,15,20,30],\n",
    "                [50,60,70,80]])\n",
    "print(\"first row:\",arr[2])\n",
    "print(\"element at:\",arr[1,2]) #this is 2nd row ,3rd column"
   ]
  },
  {
   "cell_type": "code",
   "execution_count": 34,
   "id": "be68850b-ddea-426f-8418-b5c7fec1783b",
   "metadata": {},
   "outputs": [
    {
     "name": "stdout",
     "output_type": "stream",
     "text": [
      "first two rows: [[ 2  3  4  5]\n",
      " [10 15 20 30]]\n",
      "first column: [[ 2  3  4  5]\n",
      " [10 15 20 30]]\n"
     ]
    }
   ],
   "source": [
    "# 2.slicing\n",
    "arr = np.array([[2,3,4,5],\n",
    "                [10,15,20,30],\n",
    "                [50,60,70,80]])\n",
    "\n",
    "print(\"first two rows:\",arr[0:2])\n",
    "print(\"first column:\",arr[:2])"
   ]
  },
  {
   "cell_type": "code",
   "execution_count": null,
   "id": "276b8697-c650-4a05-8fff-d664e50393ab",
   "metadata": {},
   "outputs": [],
   "source": [
    "##BROADCASTING\n",
    "it allows operations between arrays of defferent shapes - as long as they are compatible.\n",
    "for example : adding a 1d array to each row of 2d array"
   ]
  },
  {
   "cell_type": "code",
   "execution_count": 36,
   "id": "ebad5a44-a5c1-4dc8-9c53-0ca4b725f1eb",
   "metadata": {},
   "outputs": [
    {
     "name": "stdout",
     "output_type": "stream",
     "text": [
      "broadcasted result:\n",
      " [[11 22 33]\n",
      " [14 25 36]\n",
      " [17 28 39]]\n"
     ]
    }
   ],
   "source": [
    "a=np.array([[1,2,3],\n",
    "            [4,5,6],    #this is 2d\n",
    "            [7,8,9]])\n",
    "b = np.array([10,20,30])  #this is 1d\n",
    "print(\"broadcasted result:\\n\",a+b)"
   ]
  },
  {
   "cell_type": "code",
   "execution_count": 60,
   "id": "4ac3f57d-83b9-4970-b9b2-fb7950b94e66",
   "metadata": {},
   "outputs": [
    {
     "name": "stdout",
     "output_type": "stream",
     "text": [
      "[[ 6  7  8  9 10]\n",
      " [11 12 13 14 15]\n",
      " [16 17 18 19 20]]\n"
     ]
    }
   ],
   "source": [
    "                                                          ## assingment \n",
    "a= np.array([[1,2,3,4,5],\n",
    "            [6,7,8,9,10],\n",
    "            [11,12,13,14,15],\n",
    "            [16,17,18,19,20],\n",
    "            [21,22,23,24,25]])\n",
    "print(a[1:4])\n",
    "            "
   ]
  },
  {
   "cell_type": "code",
   "execution_count": 51,
   "id": "b51a4c58-9a58-4fe5-b0fd-9a33241952a5",
   "metadata": {},
   "outputs": [
    {
     "name": "stdout",
     "output_type": "stream",
     "text": [
      "[1 1 3 3 5 5 7 7 9 9]\n"
     ]
    }
   ],
   "source": [
    "a= np.array([1,2,3,4,5,6,7,8,9,10])\n",
    "a[a % 2 ==0] -=1      #the even number should divide by 2 if the reminder is 0 then the element should -1\n",
    "print(a)"
   ]
  },
  {
   "cell_type": "code",
   "execution_count": 53,
   "id": "6f0efe97-4483-4e55-abd6-af08fd28f964",
   "metadata": {},
   "outputs": [
    {
     "name": "stdout",
     "output_type": "stream",
     "text": [
      "broadcasted result:\n",
      " [[ 2  4  6  8]\n",
      " [ 7  9 11 13]\n",
      " [12 14 16 18]\n",
      " [17 19 21 23]]\n"
     ]
    }
   ],
   "source": [
    "a= np.array([[1,2,3,4],\n",
    "            [6,7,8,9],\n",
    "            [11,12,13,14],\n",
    "            [16,17,18,19]])\n",
    "b = np.array([1,2,3,4])\n",
    "\n",
    "print(\"broadcasted result:\\n\",a+b)\n",
    "             "
   ]
  },
  {
   "cell_type": "code",
   "execution_count": null,
   "id": "ea01d5e5-027c-4ee6-b208-22dce13a2dd6",
   "metadata": {},
   "outputs": [],
   "source": []
  }
 ],
 "metadata": {
  "kernelspec": {
   "display_name": "Python 3 (ipykernel)",
   "language": "python",
   "name": "python3"
  },
  "language_info": {
   "codemirror_mode": {
    "name": "ipython",
    "version": 3
   },
   "file_extension": ".py",
   "mimetype": "text/x-python",
   "name": "python",
   "nbconvert_exporter": "python",
   "pygments_lexer": "ipython3",
   "version": "3.13.5"
  }
 },
 "nbformat": 4,
 "nbformat_minor": 5
}
