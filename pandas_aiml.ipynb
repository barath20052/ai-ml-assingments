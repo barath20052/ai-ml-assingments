{
 "cells": [
  {
   "cell_type": "code",
   "execution_count": null,
   "id": "228d3b9d-1e94-4f56-b50e-f90a0b49208c",
   "metadata": {},
   "outputs": [],
   "source": [
    "what is pandas ?\n",
    "pandas library with structured data (tabular,labled).built on top of numpy\n",
    "# seies is a 1 row data\n",
    "## dataframe is many rows,colums data"
   ]
  },
  {
   "cell_type": "code",
   "execution_count": 12,
   "id": "44ba4f2b-4ce1-4ac0-8879-6eb4092de6da",
   "metadata": {},
   "outputs": [
    {
     "name": "stdout",
     "output_type": "stream",
     "text": [
      "0    123\n",
      "1     20\n",
      "2    100\n",
      "3     50\n",
      "4     98\n",
      "dtype: int64\n"
     ]
    }
   ],
   "source": [
    "import pandas as pd\n",
    "## creating a series from the list\n",
    "marks = pd.Series([123,20,100,50,98])\n",
    "print(marks)"
   ]
  },
  {
   "cell_type": "code",
   "execution_count": 11,
   "id": "b03db8d6-2656-490b-b6a0-95ae14e6cb62",
   "metadata": {},
   "outputs": [],
   "source": [
    "## adding custom index\n",
    "marks = pd.Series([123,20,100,50,98],\n",
    "index = ['a','b','c','d','e'])"
   ]
  },
  {
   "cell_type": "code",
   "execution_count": 12,
   "id": "9a1ced4c-65fd-4301-a8e8-61a138e3a026",
   "metadata": {},
   "outputs": [
    {
     "name": "stdout",
     "output_type": "stream",
     "text": [
      "a    123\n",
      "b     20\n",
      "c    100\n",
      "d     50\n",
      "e     98\n",
      "dtype: int64\n"
     ]
    }
   ],
   "source": [
    "print(marks)"
   ]
  },
  {
   "cell_type": "code",
   "execution_count": 17,
   "id": "db9867bf-a60a-4d4a-a508-97f9af73fd2e",
   "metadata": {},
   "outputs": [
    {
     "name": "stdout",
     "output_type": "stream",
     "text": [
      "\n",
      "marks of d: 50\n"
     ]
    }
   ],
   "source": [
    "## accessing element\n",
    "print(\"\\nmarks of d:\",marks['d'])"
   ]
  },
  {
   "cell_type": "code",
   "execution_count": 19,
   "id": "bd6201f5-17c5-4587-884a-40edb292b24d",
   "metadata": {},
   "outputs": [
    {
     "name": "stdout",
     "output_type": "stream",
     "text": [
      "50\n"
     ]
    }
   ],
   "source": [
    "print(marks['d'])"
   ]
  },
  {
   "cell_type": "code",
   "execution_count": 26,
   "id": "9e65d117-11fd-4d3f-b1c5-264188cca61a",
   "metadata": {},
   "outputs": [
    {
     "name": "stdout",
     "output_type": "stream",
     "text": [
      "c\n"
     ]
    }
   ],
   "source": [
    "print(marks[marks==100].index[0])"
   ]
  },
  {
   "cell_type": "code",
   "execution_count": 36,
   "id": "32bccfea-07b7-4f47-948c-c460239ddbe8",
   "metadata": {},
   "outputs": [
    {
     "name": "stdout",
     "output_type": "stream",
     "text": [
      "123\n",
      "20\n",
      "98.0\n",
      "78.2\n",
      "0     20\n",
      "1     50\n",
      "2     98\n",
      "3    100\n",
      "4    123\n",
      "dtype: int64\n"
     ]
    }
   ],
   "source": [
    "## usefull methods\n",
    "print(marks.max())\n",
    "print(marks.min())\n",
    "print(marks.median())\n",
    "print(marks.mean())\n",
    "print(marks.mode())"
   ]
  },
  {
   "cell_type": "code",
   "execution_count": 37,
   "id": "5309bac4-88ef-4c85-a0bf-5372d67dab7a",
   "metadata": {},
   "outputs": [
    {
     "name": "stdout",
     "output_type": "stream",
     "text": [
      "count      5.000000\n",
      "mean      78.200000\n",
      "std       42.002381\n",
      "min       20.000000\n",
      "25%       50.000000\n",
      "50%       98.000000\n",
      "75%      100.000000\n",
      "max      123.000000\n",
      "dtype: float64\n"
     ]
    }
   ],
   "source": [
    "print(marks.describe())"
   ]
  },
  {
   "cell_type": "code",
   "execution_count": 44,
   "id": "96f022d5-487c-4d25-ab58-14306f40f456",
   "metadata": {},
   "outputs": [],
   "source": [
    "## data frame = 2d data\n",
    "##from dictionary\n",
    "\n",
    "data = {\n",
    "    'name':['a','b','c','d','e'],\n",
    "    'age':[20,30,40,50,60],\n",
    "    'gender':['male','female','male','male','female']\n",
    "}\n"
   ]
  },
  {
   "cell_type": "code",
   "execution_count": 45,
   "id": "b8bf97ed-1d09-442c-9ef9-44504d114ee6",
   "metadata": {},
   "outputs": [
    {
     "name": "stdout",
     "output_type": "stream",
     "text": [
      "{'name': ['a', 'b', 'c', 'd', 'e'], 'age': [20, 30, 40, 50, 60], 'gender': ['male', 'female', 'male', 'male', 'female']}\n"
     ]
    }
   ],
   "source": [
    "print(data)"
   ]
  },
  {
   "cell_type": "code",
   "execution_count": 52,
   "id": "53bb0a59-69c1-4b8c-bf3c-87bfdde51354",
   "metadata": {},
   "outputs": [],
   "source": [
    "import pandas as pd\n",
    "df= pd.DataFrame(data)"
   ]
  },
  {
   "cell_type": "code",
   "execution_count": 53,
   "id": "4d09fb10-bb1e-470c-8ada-37d7d060ab26",
   "metadata": {},
   "outputs": [
    {
     "name": "stdout",
     "output_type": "stream",
     "text": [
      "  name  age  gender\n",
      "0    a   20    male\n",
      "1    b   30  female\n",
      "2    c   40    male\n",
      "3    d   50    male\n",
      "4    e   60  female\n"
     ]
    }
   ],
   "source": [
    "print(df)"
   ]
  },
  {
   "cell_type": "code",
   "execution_count": 57,
   "id": "1485c930-cd1d-41fe-bcad-a7eb3fb302b5",
   "metadata": {},
   "outputs": [
    {
     "name": "stdout",
     "output_type": "stream",
     "text": [
      "age\n",
      "20    1\n",
      "30    1\n",
      "40    1\n",
      "50    1\n",
      "60    1\n",
      "Name: count, dtype: int64\n"
     ]
    }
   ],
   "source": [
    "print(df['age'].value_counts())"
   ]
  },
  {
   "cell_type": "code",
   "execution_count": 59,
   "id": "1a295e7a-b85e-481c-b86e-77ee055c4cbb",
   "metadata": {},
   "outputs": [
    {
     "name": "stdout",
     "output_type": "stream",
     "text": [
      "0    20\n",
      "1    30\n",
      "2    40\n",
      "3    50\n",
      "4    60\n",
      "Name: age, dtype: int64\n"
     ]
    }
   ],
   "source": [
    "## access a single coliumn\n",
    "print(df['age'])"
   ]
  },
  {
   "cell_type": "code",
   "execution_count": 62,
   "id": "22759d5a-1862-43ba-8896-c64d61df7ad3",
   "metadata": {},
   "outputs": [
    {
     "name": "stdout",
     "output_type": "stream",
     "text": [
      "  name  age\n",
      "0    a   20\n",
      "1    b   30\n",
      "2    c   40\n",
      "3    d   50\n",
      "4    e   60\n"
     ]
    }
   ],
   "source": [
    "## access a multiple coliumn\n",
    "print(df[['name','age']])"
   ]
  },
  {
   "cell_type": "code",
   "execution_count": 1,
   "id": "4d6d6195-a08a-41e7-b333-f3a51b3eddb3",
   "metadata": {},
   "outputs": [],
   "source": [
    "import pandas as pd\n",
    "data = pd.read_csv(\"Employee_Attrition ,csv.csv\")"
   ]
  },
  {
   "cell_type": "code",
   "execution_count": 3,
   "id": "8f671194-36ae-4d57-ac06-f6893c54af73",
   "metadata": {},
   "outputs": [
    {
     "name": "stdout",
     "output_type": "stream",
     "text": [
      "   employee_id   Age     BusinessTravel  DailyRate              Department  \\\n",
      "0         1453  41.0      Travel_Rarely     1102.0                   Sales   \n",
      "1         1454  49.0  Travel_Frequently      279.0  Research & Development   \n",
      "2         1455  37.0      Travel_Rarely     1373.0  Research & Development   \n",
      "3         1456  33.0  Travel_Frequently     1392.0                     NaN   \n",
      "4         1457  27.0      Travel_Rarely      591.0  Research & Development   \n",
      "\n",
      "   DistanceFromHome       Education EducationField EnvironmentSatisfaction  \\\n",
      "0               1.0        2College  Life Sciences                 2Medium   \n",
      "1               8.0  1Below College  Life Sciences                   3High   \n",
      "2               2.0        2College          Other               4Ver High   \n",
      "3               3.0         4Master  Life Sciences               4Ver High   \n",
      "4               2.0  1Below College        Medical                    1Low   \n",
      "\n",
      "   Gender  ...  MonthlyIncome MonthlyRate  NumCompaniesWorked OverTime  \\\n",
      "0  Female  ...         5993.0     19479.0                 8.0      Yes   \n",
      "1    Male  ...         5130.0     24907.0                 1.0       No   \n",
      "2    Male  ...         2090.0      2396.0                 6.0      Yes   \n",
      "3  Female  ...         2909.0     23159.0                 1.0      Yes   \n",
      "4    Male  ...         3468.0     16632.0                 9.0       No   \n",
      "\n",
      "  PercentSalaryHike PerformanceRating  RelationshipSatisfaction  \\\n",
      "0              11.0        3Excellent                      1Low   \n",
      "1              23.0      4Outstanding                4Very High   \n",
      "2              15.0        3Excellent                   2Medium   \n",
      "3              11.0        3Excellent                     3High   \n",
      "4              12.0        3Excellent                4Very High   \n",
      "\n",
      "   TrainingTimesLastYear  WorkLifeBalance Attrition  \n",
      "0                    0.0             1Bad       Yes  \n",
      "1                    3.0          3Better        No  \n",
      "2                    3.0          3Better       Yes  \n",
      "3                    3.0          3Better        No  \n",
      "4                    3.0          3Better        No  \n",
      "\n",
      "[5 rows x 26 columns]\n"
     ]
    }
   ],
   "source": [
    "## first 5 rows\n",
    "print(data.head())"
   ]
  },
  {
   "cell_type": "code",
   "execution_count": 5,
   "id": "742d759a-129b-41cd-a95b-1d578d782265",
   "metadata": {},
   "outputs": [
    {
     "name": "stdout",
     "output_type": "stream",
     "text": [
      "(1470, 26)\n"
     ]
    }
   ],
   "source": [
    "##showing total rows and columns\n",
    "print(data.shape)"
   ]
  },
  {
   "cell_type": "code",
   "execution_count": 6,
   "id": "c178d37d-f126-4ca4-9bad-67705b7ec2c9",
   "metadata": {},
   "outputs": [
    {
     "name": "stdout",
     "output_type": "stream",
     "text": [
      "Index(['employee_id', 'Age', 'BusinessTravel', 'DailyRate', 'Department',\n",
      "       'DistanceFromHome', 'Education', 'EducationField',\n",
      "       'EnvironmentSatisfaction', 'Gender', 'HourlyRate', 'JobInvolvement',\n",
      "       'JobLevel', 'JobRole', 'JobSatisfaction', 'MaritalStatus',\n",
      "       'MonthlyIncome', 'MonthlyRate', 'NumCompaniesWorked', 'OverTime',\n",
      "       'PercentSalaryHike', 'PerformanceRating', 'RelationshipSatisfaction',\n",
      "       'TrainingTimesLastYear', 'WorkLifeBalance', 'Attrition'],\n",
      "      dtype='object')\n"
     ]
    }
   ],
   "source": [
    "#showing all columns name\n",
    "print(data.columns)"
   ]
  },
  {
   "cell_type": "code",
   "execution_count": 20,
   "id": "3ba82292-c918-4ed6-9850-a4b530a3627f",
   "metadata": {},
   "outputs": [
    {
     "name": "stdout",
     "output_type": "stream",
     "text": [
      "actor1     suriya\n",
      "actor2      vijay\n",
      "actor3    dhanush\n",
      "actor4      kamal\n",
      "actor5    kartick\n",
      "dtype: object\n"
     ]
    }
   ],
   "source": [
    "                                                   #ASSINGMENT\n",
    "#1\n",
    "## creating series using list\n",
    "movies = pd.Series(['suriya','vijay','dhanush','kamal','kartick'],\n",
    "## adding custom index \n",
    "['actor1','actor2','actor3','actor4','actor5'])\n",
    "\n",
    "print(movies)"
   ]
  },
  {
   "cell_type": "code",
   "execution_count": 21,
   "id": "eb7a7551-a4f2-48d7-91e5-86a358881b8c",
   "metadata": {},
   "outputs": [],
   "source": [
    "#2\n",
    "data = {\n",
    "    'name':['suriya','vijay','dhanush','kamal','kartick'],\n",
    "    'department':['sales','hr','sales','hr','sales'],\n",
    "    'salary':[20000,30000,40000,50000,60000]\n",
    "}"
   ]
  },
  {
   "cell_type": "code",
   "execution_count": 23,
   "id": "18195b74-9e05-4f01-9285-b9e55745c9f0",
   "metadata": {},
   "outputs": [],
   "source": [
    "#3 \n",
    "import pandas as pd\n",
    "info = pd.DataFrame(data)"
   ]
  },
  {
   "cell_type": "code",
   "execution_count": 24,
   "id": "9836f052-0354-4479-9d91-9f7ae3325410",
   "metadata": {},
   "outputs": [
    {
     "name": "stdout",
     "output_type": "stream",
     "text": [
      "0    20000\n",
      "1    30000\n",
      "2    40000\n",
      "3    50000\n",
      "4    60000\n",
      "Name: salary, dtype: int64\n"
     ]
    }
   ],
   "source": [
    "print(info['salary'])"
   ]
  },
  {
   "cell_type": "code",
   "execution_count": 25,
   "id": "905fa2e4-ea24-4444-a94f-d4077be9d264",
   "metadata": {},
   "outputs": [],
   "source": [
    "import pandas as pd\n",
    "data = pd.read_csv(\"Employee_Attrition ,csv.csv\")"
   ]
  },
  {
   "cell_type": "code",
   "execution_count": 26,
   "id": "6fdf2bc6-278d-46cb-897d-31a77df955dc",
   "metadata": {},
   "outputs": [
    {
     "name": "stdout",
     "output_type": "stream",
     "text": [
      "   employee_id   Age     BusinessTravel  DailyRate              Department  \\\n",
      "0         1453  41.0      Travel_Rarely     1102.0                   Sales   \n",
      "1         1454  49.0  Travel_Frequently      279.0  Research & Development   \n",
      "2         1455  37.0      Travel_Rarely     1373.0  Research & Development   \n",
      "3         1456  33.0  Travel_Frequently     1392.0                     NaN   \n",
      "4         1457  27.0      Travel_Rarely      591.0  Research & Development   \n",
      "5         1458  32.0  Travel_Frequently     1005.0  Research & Development   \n",
      "6         1459  59.0      Travel_Rarely     1324.0  Research & Development   \n",
      "7         1460  30.0      Travel_Rarely     1358.0  Research & Development   \n",
      "8         1461  38.0  Travel_Frequently      216.0  Research & Development   \n",
      "9         1462  36.0      Travel_Rarely     1299.0  Research & Development   \n",
      "\n",
      "   DistanceFromHome       Education EducationField EnvironmentSatisfaction  \\\n",
      "0               1.0        2College  Life Sciences                 2Medium   \n",
      "1               8.0  1Below College  Life Sciences                   3High   \n",
      "2               2.0        2College          Other               4Ver High   \n",
      "3               3.0         4Master  Life Sciences               4Ver High   \n",
      "4               2.0  1Below College        Medical                    1Low   \n",
      "5               2.0        2College  Life Sciences               4Ver High   \n",
      "6               3.0       3Bachelor        Medical                   3High   \n",
      "7              24.0  1Below College  Life Sciences               4Ver High   \n",
      "8              23.0       3Bachelor            NaN               4Ver High   \n",
      "9              27.0       3Bachelor        Medical                   3High   \n",
      "\n",
      "   Gender  ...  MonthlyIncome MonthlyRate  NumCompaniesWorked OverTime  \\\n",
      "0  Female  ...         5993.0     19479.0                 8.0      Yes   \n",
      "1    Male  ...         5130.0     24907.0                 1.0       No   \n",
      "2    Male  ...         2090.0      2396.0                 6.0      Yes   \n",
      "3  Female  ...         2909.0     23159.0                 1.0      Yes   \n",
      "4    Male  ...         3468.0     16632.0                 9.0       No   \n",
      "5    Male  ...         3068.0     11864.0                 0.0       No   \n",
      "6  Female  ...         2670.0      9964.0                 4.0      Yes   \n",
      "7       M  ...         2693.0     13335.0                 1.0       No   \n",
      "8    Male  ...         9526.0      8787.0                 0.0       No   \n",
      "9    Male  ...         5237.0     16577.0                 6.0       No   \n",
      "\n",
      "  PercentSalaryHike PerformanceRating  RelationshipSatisfaction  \\\n",
      "0              11.0        3Excellent                      1Low   \n",
      "1              23.0      4Outstanding                4Very High   \n",
      "2              15.0        3Excellent                   2Medium   \n",
      "3              11.0        3Excellent                     3High   \n",
      "4              12.0        3Excellent                4Very High   \n",
      "5              13.0        3Excellent                     3High   \n",
      "6              20.0      4Outstanding                      1Low   \n",
      "7              22.0      4Outstanding                   2Medium   \n",
      "8              21.0      4Outstanding                   2Medium   \n",
      "9              13.0        3Excellent                   2Medium   \n",
      "\n",
      "   TrainingTimesLastYear  WorkLifeBalance Attrition  \n",
      "0                    0.0             1Bad       Yes  \n",
      "1                    3.0          3Better        No  \n",
      "2                    3.0          3Better       Yes  \n",
      "3                    3.0          3Better        No  \n",
      "4                    3.0          3Better        No  \n",
      "5                    2.0            2Good        No  \n",
      "6                    3.0            2Good        No  \n",
      "7                    2.0          3Better        No  \n",
      "8                    2.0          3Better        No  \n",
      "9                    3.0              NaN        No  \n",
      "\n",
      "[10 rows x 26 columns]\n"
     ]
    }
   ],
   "source": [
    "print(data.head(10))"
   ]
  },
  {
   "cell_type": "code",
   "execution_count": null,
   "id": "c244ea35-5eb6-48e8-ba4a-12722dbe9315",
   "metadata": {},
   "outputs": [],
   "source": []
  }
 ],
 "metadata": {
  "kernelspec": {
   "display_name": "Python 3 (ipykernel)",
   "language": "python",
   "name": "python3"
  },
  "language_info": {
   "codemirror_mode": {
    "name": "ipython",
    "version": 3
   },
   "file_extension": ".py",
   "mimetype": "text/x-python",
   "name": "python",
   "nbconvert_exporter": "python",
   "pygments_lexer": "ipython3",
   "version": "3.13.5"
  }
 },
 "nbformat": 4,
 "nbformat_minor": 5
}
