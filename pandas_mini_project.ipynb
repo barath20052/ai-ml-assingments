{
 "cells": [
  {
   "cell_type": "code",
   "execution_count": null,
   "id": "c57e850a-d1b6-4fbf-aba3-a4e066c6dc94",
   "metadata": {},
   "outputs": [],
   "source": [
    "                                                     ## MINI PROJECT"
   ]
  },
  {
   "cell_type": "code",
   "execution_count": 14,
   "id": "dbc15370-39c6-49fb-9520-85ea0f3f619d",
   "metadata": {},
   "outputs": [],
   "source": [
    "import pandas as pd\n",
    "data= pd.read_csv(\"tested.csv\")"
   ]
  },
  {
   "cell_type": "code",
   "execution_count": 15,
   "id": "fa18a4bb-7c33-43c3-a100-9121e8710ae2",
   "metadata": {},
   "outputs": [
    {
     "name": "stdout",
     "output_type": "stream",
     "text": [
      "418\n"
     ]
    }
   ],
   "source": [
    "## 1. no of passengers\n",
    "print(data['PassengerId'].count())"
   ]
  },
  {
   "cell_type": "code",
   "execution_count": 16,
   "id": "ff4eabb7-98f9-4cc8-99cd-f57d7ce1b5f4",
   "metadata": {},
   "outputs": [
    {
     "name": "stdout",
     "output_type": "stream",
     "text": [
      "12\n"
     ]
    }
   ],
   "source": [
    "## total no of columns\n",
    "print(data.shape[1])"
   ]
  },
  {
   "cell_type": "code",
   "execution_count": 17,
   "id": "9fa51f06-736f-405a-8b28-aca131dc9333",
   "metadata": {},
   "outputs": [
    {
     "name": "stdout",
     "output_type": "stream",
     "text": [
      "30.272590361445783\n"
     ]
    }
   ],
   "source": [
    "## avg age of passenger\n",
    "print(data['Age'].mean())"
   ]
  },
  {
   "cell_type": "code",
   "execution_count": 18,
   "id": "cd6cfe54-a4d3-4927-b433-973524b01270",
   "metadata": {},
   "outputs": [
    {
     "name": "stdout",
     "output_type": "stream",
     "text": [
      "512.3292\n"
     ]
    }
   ],
   "source": [
    "## max of fare\n",
    "print(data['Fare'].max())"
   ]
  },
  {
   "cell_type": "code",
   "execution_count": 19,
   "id": "8e055867-2652-4809-8fe2-a2cbdd0ab549",
   "metadata": {},
   "outputs": [
    {
     "name": "stdout",
     "output_type": "stream",
     "text": [
      "PassengerId      0\n",
      "Survived         0\n",
      "Pclass           0\n",
      "Name             0\n",
      "Sex              0\n",
      "Age             86\n",
      "SibSp            0\n",
      "Parch            0\n",
      "Ticket           0\n",
      "Fare             1\n",
      "Cabin          327\n",
      "Embarked         0\n",
      "dtype: int64\n"
     ]
    }
   ],
   "source": [
    "print(data.isna().sum())"
   ]
  },
  {
   "cell_type": "code",
   "execution_count": 20,
   "id": "28d1563f-8eb4-4542-92af-541052430b1f",
   "metadata": {},
   "outputs": [
    {
     "name": "stdout",
     "output_type": "stream",
     "text": [
      "327\n"
     ]
    }
   ],
   "source": [
    "## most noof missing value columns\n",
    "print (data['Cabin'].isna().sum())\n",
    "    "
   ]
  },
  {
   "cell_type": "code",
   "execution_count": null,
   "id": "3f6f5156-f3a5-4837-a809-20424c66e8bd",
   "metadata": {},
   "outputs": [],
   "source": []
  }
 ],
 "metadata": {
  "kernelspec": {
   "display_name": "Python 3 (ipykernel)",
   "language": "python",
   "name": "python3"
  },
  "language_info": {
   "codemirror_mode": {
    "name": "ipython",
    "version": 3
   },
   "file_extension": ".py",
   "mimetype": "text/x-python",
   "name": "python",
   "nbconvert_exporter": "python",
   "pygments_lexer": "ipython3",
   "version": "3.13.5"
  }
 },
 "nbformat": 4,
 "nbformat_minor": 5
}
