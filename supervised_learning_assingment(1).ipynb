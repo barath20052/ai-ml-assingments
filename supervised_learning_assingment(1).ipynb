{
 "cells": [
  {
   "cell_type": "code",
   "execution_count": null,
   "id": "ddc83517-c5fc-4d23-b5e6-4ebcdcd99482",
   "metadata": {},
   "outputs": [],
   "source": [
    "### linear regression in machine learning"
   ]
  },
  {
   "cell_type": "code",
   "execution_count": null,
   "id": "d3649f7d-98f8-4b83-ab82-a290e219d07f",
   "metadata": {},
   "outputs": [],
   "source": [
    "regression  question ?\n",
    "imagine just you are a data scientist or ml engineer at a real estate company .... you have data about houses and their house sizes,\n",
    "house number of rooms , house prices.my boss telling the size of the new house... can i predict the price of the new house???\n",
    "\n",
    "prices are numerical values so we cant just guess the value we should use the linear regression model...\n",
    "\n",
    "\n",
    "regression is a part of supervised learning\n",
    "regression is used predict  the continous numerical values based on input features\n"
   ]
  },
  {
   "cell_type": "code",
   "execution_count": null,
   "id": "f1c881c0-a842-4caf-93ea-b78260c7eca2",
   "metadata": {},
   "outputs": [],
   "source": [
    "### regression vs classifiction\n",
    "type                           output                      example                               algorithm\n",
    "Regression                     continuous (Numbers)       predicting price or temperature       Linear Regreesion\n",
    "classification                 categorical(labels)        predicting if email is spam or not    Logistic Regression ,Decision Tree"
   ]
  },
  {
   "cell_type": "code",
   "execution_count": null,
   "id": "213f6e2f-513c-41fa-9fab-cffd1e64e503",
   "metadata": {},
   "outputs": [],
   "source": [
    "### best fit line linear regression :\n",
    "best fit line is completlt depend on the formula which we use\n",
    "y = mx + b\n",
    "\n",
    "y = y is the predicted value (dependent variable)\n",
    "x = x is the input(independent variable)\n",
    "m = m is the slope of the line (how much y changes when x changes)\n",
    "b(c) = b is the value of y when x = 0"
   ]
  },
  {
   "cell_type": "code",
   "execution_count": null,
   "id": "c87ae8c1-ca6a-49f0-a249-add0a3c49f54",
   "metadata": {},
   "outputs": [],
   "source": [
    "### scikit learn is automatically does the optimization using ordinary least square (OLS)"
   ]
  },
  {
   "cell_type": "code",
   "execution_count": 3,
   "id": "f0a5f382-9155-4adf-8e26-bd55d7cbc5e3",
   "metadata": {},
   "outputs": [],
   "source": [
    "### step 1 is to import the liabrary\n",
    "\n",
    "import pandas as pd\n",
    "import numpy as np\n",
    "import matplotlib.pyplot as plt\n",
    "from sklearn.linear_model import LinearRegression\n",
    "\n",
    "### step2 creating a small data set\n",
    "data = {'experience':[1,2,3,4,5,6,7],\n",
    "        'salary':[35000,40000,450000,50000,60000,65000,70000]}\n",
    "       "
   ]
  },
  {
   "cell_type": "code",
   "execution_count": 4,
   "id": "660e9a31-f1ab-4a3d-9858-19764b7e6974",
   "metadata": {},
   "outputs": [],
   "source": [
    "### step2 creating a small data set\n",
    "data = {'experience':[1,2,3,4,5,6,7],\n",
    "        'salary':[35000,40000,45000,50000,60000,65000,70000]}"
   ]
  },
  {
   "cell_type": "code",
   "execution_count": 5,
   "id": "33581c42-3c96-4e7d-91b0-b90487545ce0",
   "metadata": {},
   "outputs": [
    {
     "name": "stdout",
     "output_type": "stream",
     "text": [
      "{'experience': [1, 2, 3, 4, 5, 6, 7], 'salary': [35000, 40000, 45000, 50000, 60000, 65000, 70000]}\n"
     ]
    }
   ],
   "source": [
    "print(data)"
   ]
  },
  {
   "cell_type": "code",
   "execution_count": 6,
   "id": "69896a94-d147-48ea-bbce-2e3b736b7902",
   "metadata": {},
   "outputs": [],
   "source": [
    "df = pd.DataFrame(data)"
   ]
  },
  {
   "cell_type": "code",
   "execution_count": 7,
   "id": "da07ca2e-a0d2-4544-a4e2-211fae6cdd73",
   "metadata": {},
   "outputs": [
    {
     "data": {
      "text/plain": [
       "{'experience': [1, 2, 3, 4, 5, 6, 7],\n",
       " 'salary': [35000, 40000, 45000, 50000, 60000, 65000, 70000]}"
      ]
     },
     "execution_count": 7,
     "metadata": {},
     "output_type": "execute_result"
    }
   ],
   "source": [
    "data"
   ]
  },
  {
   "cell_type": "code",
   "execution_count": 9,
   "id": "f7e5b6e7-4b4c-48d6-8695-17880b8316c1",
   "metadata": {},
   "outputs": [
    {
     "data": {
      "text/plain": [
       "<function matplotlib.pyplot.show(close=None, block=None)>"
      ]
     },
     "execution_count": 9,
     "metadata": {},
     "output_type": "execute_result"
    },
    {
     "data": {
      "image/png": "[encoded data removed]",
      "text/plain": [
       "<Figure size 640x480 with 1 Axes>"
      ]
     },
     "metadata": {},
     "output_type": "display_data"
    }
   ],
   "source": [
    "### step 3 visualize the data\n",
    "plt.scatter(df['experience'],df['salary'],color= 'blue')\n",
    "plt.title(\"experince vs salary\")\n",
    "plt.xlabel('years of experince')\n",
    "plt.ylabel('salary')\n",
    "plt.show"
   ]
  },
  {
   "cell_type": "code",
   "execution_count": 10,
   "id": "a2e81e1e-a4aa-4bf0-9abd-28bd7852267c",
   "metadata": {},
   "outputs": [
    {
     "name": "stdout",
     "output_type": "stream",
     "text": [
      "slope(m): [6071.42857143]\n",
      "intercept(c) 27857.142857142862\n"
     ]
    }
   ],
   "source": [
    "### step 4 difine the linear regression model\n",
    "x= df[['experience']]\n",
    "y= df['salary']\n",
    "\n",
    "\n",
    "### step 5 fit the mode\n",
    "model = LinearRegression()\n",
    "model.fit(x,y)\n",
    "\n",
    "### step 6 view the model parameters\n",
    "print(\"slope(m):\",model.coef_)\n",
    "print(\"intercept(c)\",model.intercept_)"
   ]
  },
  {
   "cell_type": "code",
   "execution_count": 11,
   "id": "327906e5-b40b-4bfc-b3bb-f01388d8d566",
   "metadata": {},
   "outputs": [
    {
     "name": "stdout",
     "output_type": "stream",
     "text": [
      "[33928.57142857 40000.         46071.42857143 52142.85714286\n",
      " 58214.28571429 64285.71428571 70357.14285714]\n"
     ]
    }
   ],
   "source": [
    "### step 7 predict new value\n",
    "predicted = model.predict(x)\n",
    "print(predicted)"
   ]
  },
  {
   "cell_type": "code",
   "execution_count": 12,
   "id": "90c7a6e7-7cb6-47e9-a470-159f11fd10dc",
   "metadata": {},
   "outputs": [
    {
     "data": {
      "text/plain": [
       "<function matplotlib.pyplot.show(close=None, block=None)>"
      ]
     },
     "execution_count": 12,
     "metadata": {},
     "output_type": "execute_result"
    },
    {
     "data": {
      "image/png": "[encoded data removed]",
      "text/plain": [
       "<Figure size 640x480 with 1 Axes>"
      ]
     },
     "metadata": {},
     "output_type": "display_data"
    }
   ],
   "source": [
    "### step8 plotin new predicted value\n",
    "plt.scatter(x,y,color= 'blue')\n",
    "plt.plot(x,predicted,color ='red',linewidth =2)\n",
    "plt.title(\"experince vs salary\")\n",
    "plt.xlabel('years of experince')\n",
    "plt.ylabel('salary')\n",
    "plt.show"
   ]
  },
  {
   "cell_type": "code",
   "execution_count": 15,
   "id": "d80309c5-20b0-4199-9b6a-f808f6fa88aa",
   "metadata": {},
   "outputs": [
    {
     "name": "stdout",
     "output_type": "stream",
     "text": [
      "[76428.57142857]\n"
     ]
    },
    {
     "name": "stderr",
     "output_type": "stream",
     "text": [
      "C:\\Users\\vijay\\anaconda3\\Lib\\site-packages\\sklearn\\utils\\validation.py:2739: UserWarning: X does not have valid feature names, but LinearRegression was fitted with feature names\n",
      "  warnings.warn(\n"
     ]
    }
   ],
   "source": [
    "### step 9 predict new y value(depend value)\n",
    "new_exp = np.array([[8]])\n",
    "predicted_salary = model.predict(new_exp)\n",
    "print(predicted_salary)"
   ]
  },
  {
   "cell_type": "code",
   "execution_count": 18,
   "id": "34d1a4b1-656c-4f2c-a497-218b42f2de52",
   "metadata": {},
   "outputs": [
    {
     "name": "stdout",
     "output_type": "stream",
     "text": [
      "coefficients: [5533.33333333 1333.33333333]\n",
      "intercept: 27399.999999999985\n"
     ]
    }
   ],
   "source": [
    "### multiplr linear regression\n",
    "data = {'experience':[1,2,3,4,5],\n",
    "        'education_level':[1,1,2,2,3],\n",
    "        'salary':[35000,40000,45000,52000,60000]}\n",
    "df = pd.DataFrame(data)\n",
    "x = df[['experience','education_level']]\n",
    "y = df['salary']\n",
    "\n",
    "model = LinearRegression()\n",
    "model.fit(x,y)\n",
    "\n",
    "print(\"coefficients:\",model.coef_)\n",
    "print(\"intercept:\",model.intercept_)"
   ]
  },
  {
   "cell_type": "markdown",
   "id": "159832b0-0c52-4441-96dd-ce59a250a1ed",
   "metadata": {},
   "source": [
    "### assingment question"
   ]
  },
  {
   "cell_type": "code",
   "execution_count": 1,
   "id": "5a12adc0-1cbc-4615-a69a-ea2f5f409a78",
   "metadata": {},
   "outputs": [
    {
     "name": "stdout",
     "output_type": "stream",
     "text": [
      "[33928.57142857 40000.         46071.42857143 52142.85714286\n",
      " 58214.28571429 64285.71428571 70357.14285714]\n",
      "8 year experience salary : [76428.57142857]\n",
      "slope(m): [6071.42857143]\n",
      "intercept(c) 27857.142857142862\n"
     ]
    },
    {
     "name": "stderr",
     "output_type": "stream",
     "text": [
      "C:\\Users\\vijay\\anaconda3\\Lib\\site-packages\\sklearn\\utils\\validation.py:2739: UserWarning: X does not have valid feature names, but LinearRegression was fitted with feature names\n",
      "  warnings.warn(\n"
     ]
    },
    {
     "data": {
      "image/png": "[encoded data removed]",
      "text/plain": [
       "<Figure size 640x480 with 1 Axes>"
      ]
     },
     "metadata": {},
     "output_type": "display_data"
    }
   ],
   "source": [
    "### 3rd question\n",
    "\n",
    "import pandas as pd\n",
    "import numpy as np\n",
    "import matplotlib.pyplot as plt\n",
    "from sklearn.linear_model import LinearRegression\n",
    "\n",
    "data={'experience':[1,2,3,4,5,6,7],\n",
    "        'salary':[35000,40000,45000,50000,60000,65000,70000]}\n",
    "\n",
    "df = pd.DataFrame(data)\n",
    "\n",
    "x=df[['experience']]\n",
    "y=df['salary']\n",
    "\n",
    "model = LinearRegression()\n",
    "model.fit(x,y)\n",
    "\n",
    "predicted = model.predict(x)\n",
    "print(predicted)\n",
    "\n",
    "\n",
    "plt.scatter(x,y,color= 'blue')\n",
    "plt.plot(x,predicted,color ='red')\n",
    "plt.title(\"experince vs salary\")\n",
    "plt.xlabel('years of experince')\n",
    "plt.ylabel('salary')\n",
    "plt.show\n",
    "\n",
    "new_exp = np.array([[8]])\n",
    "predicted_salary = model.predict(new_exp)\n",
    "print(\"8 year experience salary :\",predicted_salary)\n",
    "\n",
    "print(\"slope(m):\",model.coef_)\n",
    "print(\"intercept(c)\",model.intercept_)\n",
    "\n",
    "### salary for 8 years 76428RS"
   ]
  },
  {
   "cell_type": "markdown",
   "id": "b66f9700-e364-4935-9aa2-05fb171bf59f",
   "metadata": {},
   "source": [
    "##  4 and 5  question multiple linear regression"
   ]
  },
  {
   "cell_type": "code",
   "execution_count": 12,
   "id": "71d2ffb0-a6d8-46df-a6ed-acab04336d56",
   "metadata": {},
   "outputs": [
    {
     "name": "stdout",
     "output_type": "stream",
     "text": [
      "coefficients: [5533.33333333 1333.33333333]\n",
      "intercept: 27399.999999999985\n",
      "predicted salary for exp = 4, edu_lvl=3: [53533.33333333]\n"
     ]
    },
    {
     "name": "stderr",
     "output_type": "stream",
     "text": [
      "C:\\Users\\vijay\\anaconda3\\Lib\\site-packages\\sklearn\\utils\\validation.py:2739: UserWarning: X does not have valid feature names, but LinearRegression was fitted with feature names\n",
      "  warnings.warn(\n"
     ]
    }
   ],
   "source": [
    "data = {'experience':[1,2,3,4,5],\n",
    "        'education_level':[1,1,2,2,3],\n",
    "        'salary':[35000,40000,45000,52000,60000]}\n",
    "df = pd.DataFrame(data)\n",
    "x = df[['experience','education_level']]\n",
    "y = df['salary']\n",
    "\n",
    "model = LinearRegression()\n",
    "model.fit(x,y)\n",
    "\n",
    "print(\"coefficients:\",model.coef_)\n",
    "print(\"intercept:\",model.intercept_)\n",
    "\n",
    "predicted_salary = model.predict([[4,3]])\n",
    "print(\"predicted salary for exp = 4, edu_lvl=3:\",predicted_salary)"
   ]
  },
  {
   "cell_type": "markdown",
   "id": "51aa7ca5-7e43-4b92-bf95-300128bed2d7",
   "metadata": {},
   "source": [
    "### 6th question"
   ]
  },
  {
   "cell_type": "code",
   "execution_count": 28,
   "id": "2c951184-14a3-4575-a929-30d08282adf8",
   "metadata": {},
   "outputs": [],
   "source": [
    "import pandas as pd\n",
    "import numpy as np\n",
    "import matplotlib.pyplot as plt\n",
    "from sklearn.linear_model import LinearRegression\n",
    "\n",
    "data = pd.read_csv(\"Salary Data.csv\")"
   ]
  },
  {
   "cell_type": "code",
   "execution_count": 29,
   "id": "a49d3234-a988-496a-8adc-cf54d5c8e3f2",
   "metadata": {},
   "outputs": [
    {
     "name": "stdout",
     "output_type": "stream",
     "text": [
      "<class 'pandas.core.frame.DataFrame'>\n",
      "RangeIndex: 375 entries, 0 to 374\n",
      "Data columns (total 6 columns):\n",
      " #   Column               Non-Null Count  Dtype  \n",
      "---  ------               --------------  -----  \n",
      " 0   Age                  373 non-null    float64\n",
      " 1   Gender               373 non-null    object \n",
      " 2   Education Level      373 non-null    object \n",
      " 3   Job Title            373 non-null    object \n",
      " 4   Years of Experience  373 non-null    float64\n",
      " 5   Salary               373 non-null    float64\n",
      "dtypes: float64(3), object(3)\n",
      "memory usage: 17.7+ KB\n"
     ]
    }
   ],
   "source": [
    "data.info()"
   ]
  },
  {
   "cell_type": "code",
   "execution_count": 30,
   "id": "4030e843-da53-4c1a-8ccc-22936f292285",
   "metadata": {},
   "outputs": [
    {
     "data": {
      "text/plain": [
       "Age                    2\n",
       "Gender                 2\n",
       "Education Level        2\n",
       "Job Title              2\n",
       "Years of Experience    2\n",
       "Salary                 2\n",
       "dtype: int64"
      ]
     },
     "execution_count": 30,
     "metadata": {},
     "output_type": "execute_result"
    }
   ],
   "source": [
    "data.isnull().sum()"
   ]
  },
  {
   "cell_type": "code",
   "execution_count": 31,
   "id": "030d63fa-9671-4f13-a5cb-391e0a08f066",
   "metadata": {},
   "outputs": [
    {
     "data": {
      "text/plain": [
       "np.float64(37.0)"
      ]
     },
     "execution_count": 31,
     "metadata": {},
     "output_type": "execute_result"
    }
   ],
   "source": [
    "data[\"Age\"].mean().round()"
   ]
  },
  {
   "cell_type": "code",
   "execution_count": 32,
   "id": "7b89b0f1-b531-4424-80e9-797b15cdb8e9",
   "metadata": {},
   "outputs": [],
   "source": [
    "data[\"Age\"] = data[\"Age\"].fillna(data[\"Age\"].mean().round())"
   ]
  },
  {
   "cell_type": "code",
   "execution_count": 33,
   "id": "1832b11b-1227-4ae4-9317-560b7b0bf2a4",
   "metadata": {},
   "outputs": [
    {
     "data": {
      "text/plain": [
       "'Male'"
      ]
     },
     "execution_count": 33,
     "metadata": {},
     "output_type": "execute_result"
    }
   ],
   "source": [
    "data[\"Gender\"].mode()[0]"
   ]
  },
  {
   "cell_type": "code",
   "execution_count": 34,
   "id": "49483e97-e43a-4c56-9325-c1b706a303ad",
   "metadata": {},
   "outputs": [],
   "source": [
    "data[\"Gender\"] = data[\"Gender\"].fillna(data[\"Gender\"].mode()[0])"
   ]
  },
  {
   "cell_type": "code",
   "execution_count": 35,
   "id": "2b0cc101-4e40-4213-89c8-1e4ba771bd93",
   "metadata": {},
   "outputs": [
    {
     "data": {
      "text/plain": [
       "\"Bachelor's\""
      ]
     },
     "execution_count": 35,
     "metadata": {},
     "output_type": "execute_result"
    }
   ],
   "source": [
    "data[\"Education Level\"].mode()[0]"
   ]
  },
  {
   "cell_type": "code",
   "execution_count": 36,
   "id": "a86b8cc8-b2ae-4a7b-b5f4-c3a3c5560f6e",
   "metadata": {},
   "outputs": [],
   "source": [
    "data[\"Education Level\"] = data[\"Education Level\"].fillna(data[\"Education Level\"].mode()[0])"
   ]
  },
  {
   "cell_type": "code",
   "execution_count": 37,
   "id": "0b9aa5b7-afe2-4792-af48-f7633893b0ea",
   "metadata": {},
   "outputs": [
    {
     "data": {
      "text/plain": [
       "'Director of Marketing'"
      ]
     },
     "execution_count": 37,
     "metadata": {},
     "output_type": "execute_result"
    }
   ],
   "source": [
    "data[\"Job Title\"].mode()[0]"
   ]
  },
  {
   "cell_type": "code",
   "execution_count": 38,
   "id": "4dbe86bd-f1bf-4d88-ae96-f7bf5156c7ab",
   "metadata": {},
   "outputs": [],
   "source": [
    "data[\"Job Title\"] = data[\"Job Title\"].fillna(data[\"Job Title\"].mode()[0])"
   ]
  },
  {
   "cell_type": "code",
   "execution_count": 39,
   "id": "fc61746d-a87a-418c-8940-71a4dee12456",
   "metadata": {},
   "outputs": [
    {
     "data": {
      "text/plain": [
       "np.float64(10.0)"
      ]
     },
     "execution_count": 39,
     "metadata": {},
     "output_type": "execute_result"
    }
   ],
   "source": [
    "data[\"Years of Experience\"].mean().round()"
   ]
  },
  {
   "cell_type": "code",
   "execution_count": 40,
   "id": "cee4fc66-28bf-4a13-ba5c-fc48f3cd6694",
   "metadata": {},
   "outputs": [],
   "source": [
    "data[\"Years of Experience\"] = data[\"Years of Experience\"].fillna(data[\"Years of Experience\"].mean().round())"
   ]
  },
  {
   "cell_type": "code",
   "execution_count": 41,
   "id": "a43ae96b-d8fc-40a4-9ab7-8985ad6ef7d3",
   "metadata": {},
   "outputs": [
    {
     "data": {
      "text/plain": [
       "np.float64(100577.0)"
      ]
     },
     "execution_count": 41,
     "metadata": {},
     "output_type": "execute_result"
    }
   ],
   "source": [
    "data[\"Salary\"].mean().round()"
   ]
  },
  {
   "cell_type": "code",
   "execution_count": 42,
   "id": "4d711853-b354-4603-ab74-61baddad3a1c",
   "metadata": {},
   "outputs": [],
   "source": [
    "data[\"Salary\"] = data[\"Salary\"].fillna(data[\"Salary\"].mean().round())"
   ]
  },
  {
   "cell_type": "code",
   "execution_count": 43,
   "id": "c7cc16ad-5870-4f41-b3e7-60f870243a5c",
   "metadata": {},
   "outputs": [
    {
     "data": {
      "text/html": [
       "<div>\n",
       "<style scoped>\n",
       "    .dataframe tbody tr th:only-of-type {\n",
       "        vertical-align: middle;\n",
       "    }\n",
       "\n",
       "    .dataframe tbody tr th {\n",
       "        vertical-align: top;\n",
       "    }\n",
       "\n",
       "    .dataframe thead th {\n",
       "        text-align: right;\n",
       "    }\n",
       "</style>\n",
       "<table border=\"1\" class=\"dataframe\">\n",
       "  <thead>\n",
       "    <tr style=\"text-align: right;\">\n",
       "      <th></th>\n",
       "      <th>Age</th>\n",
       "      <th>Gender</th>\n",
       "      <th>Education Level</th>\n",
       "      <th>Job Title</th>\n",
       "      <th>Years of Experience</th>\n",
       "      <th>Salary</th>\n",
       "    </tr>\n",
       "  </thead>\n",
       "  <tbody>\n",
       "    <tr>\n",
       "      <th>0</th>\n",
       "      <td>32.0</td>\n",
       "      <td>Male</td>\n",
       "      <td>Bachelor's</td>\n",
       "      <td>Software Engineer</td>\n",
       "      <td>5.0</td>\n",
       "      <td>90000.0</td>\n",
       "    </tr>\n",
       "    <tr>\n",
       "      <th>1</th>\n",
       "      <td>28.0</td>\n",
       "      <td>Female</td>\n",
       "      <td>Master's</td>\n",
       "      <td>Data Analyst</td>\n",
       "      <td>3.0</td>\n",
       "      <td>65000.0</td>\n",
       "    </tr>\n",
       "    <tr>\n",
       "      <th>2</th>\n",
       "      <td>45.0</td>\n",
       "      <td>Male</td>\n",
       "      <td>PhD</td>\n",
       "      <td>Senior Manager</td>\n",
       "      <td>15.0</td>\n",
       "      <td>150000.0</td>\n",
       "    </tr>\n",
       "    <tr>\n",
       "      <th>3</th>\n",
       "      <td>36.0</td>\n",
       "      <td>Female</td>\n",
       "      <td>Bachelor's</td>\n",
       "      <td>Sales Associate</td>\n",
       "      <td>7.0</td>\n",
       "      <td>60000.0</td>\n",
       "    </tr>\n",
       "    <tr>\n",
       "      <th>4</th>\n",
       "      <td>52.0</td>\n",
       "      <td>Male</td>\n",
       "      <td>Master's</td>\n",
       "      <td>Director</td>\n",
       "      <td>20.0</td>\n",
       "      <td>200000.0</td>\n",
       "    </tr>\n",
       "  </tbody>\n",
       "</table>\n",
       "</div>"
      ],
      "text/plain": [
       "    Age  Gender Education Level          Job Title  Years of Experience  \\\n",
       "0  32.0    Male      Bachelor's  Software Engineer                  5.0   \n",
       "1  28.0  Female        Master's       Data Analyst                  3.0   \n",
       "2  45.0    Male             PhD     Senior Manager                 15.0   \n",
       "3  36.0  Female      Bachelor's    Sales Associate                  7.0   \n",
       "4  52.0    Male        Master's           Director                 20.0   \n",
       "\n",
       "     Salary  \n",
       "0   90000.0  \n",
       "1   65000.0  \n",
       "2  150000.0  \n",
       "3   60000.0  \n",
       "4  200000.0  "
      ]
     },
     "execution_count": 43,
     "metadata": {},
     "output_type": "execute_result"
    }
   ],
   "source": [
    "data.head()"
   ]
  },
  {
   "cell_type": "code",
   "execution_count": 53,
   "id": "c8f3b726-432a-47a1-91f2-419e13928ea4",
   "metadata": {},
   "outputs": [],
   "source": [
    "df = pd.DataFrame(data)\n",
    "x = df[['Years of Experience']]\n",
    "y = df['Salary']"
   ]
  },
  {
   "cell_type": "code",
   "execution_count": 54,
   "id": "cf534402-b4a6-4067-93ab-ada9e6aa2cd4",
   "metadata": {},
   "outputs": [
    {
     "data": {
      "text/html": [
       "<style>#sk-container-id-4 {\n",
       "  /* Definition of color scheme common for light and dark mode */\n",
       "  --sklearn-color-text: #000;\n",
       "  --sklearn-color-text-muted: #666;\n",
       "  --sklearn-color-line: gray;\n",
       "  /* Definition of color scheme for unfitted estimators */\n",
       "  --sklearn-color-unfitted-level-0: #fff5e6;\n",
       "  --sklearn-color-unfitted-level-1: #f6e4d2;\n",
       "  --sklearn-color-unfitted-level-2: #ffe0b3;\n",
       "  --sklearn-color-unfitted-level-3: chocolate;\n",
       "  /* Definition of color scheme for fitted estimators */\n",
       "  --sklearn-color-fitted-level-0: #f0f8ff;\n",
       "  --sklearn-color-fitted-level-1: #d4ebff;\n",
       "  --sklearn-color-fitted-level-2: #b3dbfd;\n",
       "  --sklearn-color-fitted-level-3: cornflowerblue;\n",
       "\n",
       "  /* Specific color for light theme */\n",
       "  --sklearn-color-text-on-default-background: var(--sg-text-color, var(--theme-code-foreground, var(--jp-content-font-color1, black)));\n",
       "  --sklearn-color-background: var(--sg-background-color, var(--theme-background, var(--jp-layout-color0, white)));\n",
       "  --sklearn-color-border-box: var(--sg-text-color, var(--theme-code-foreground, var(--jp-content-font-color1, black)));\n",
       "  --sklearn-color-icon: #696969;\n",
       "\n",
       "  @media (prefers-color-scheme: dark) {\n",
       "    /* Redefinition of color scheme for dark theme */\n",
       "    --sklearn-color-text-on-default-background: var(--sg-text-color, var(--theme-code-foreground, var(--jp-content-font-color1, white)));\n",
       "    --sklearn-color-background: var(--sg-background-color, var(--theme-background, var(--jp-layout-color0, #111)));\n",
       "    --sklearn-color-border-box: var(--sg-text-color, var(--theme-code-foreground, var(--jp-content-font-color1, white)));\n",
       "    --sklearn-color-icon: #878787;\n",
       "  }\n",
       "}\n",
       "\n",
       "#sk-container-id-4 {\n",
       "  color: var(--sklearn-color-text);\n",
       "}\n",
       "\n",
       "#sk-container-id-4 pre {\n",
       "  padding: 0;\n",
       "}\n",
       "\n",
       "#sk-container-id-4 input.sk-hidden--visually {\n",
       "  border: 0;\n",
       "  clip: rect(1px 1px 1px 1px);\n",
       "  clip: rect(1px, 1px, 1px, 1px);\n",
       "  height: 1px;\n",
       "  margin: -1px;\n",
       "  overflow: hidden;\n",
       "  padding: 0;\n",
       "  position: absolute;\n",
       "  width: 1px;\n",
       "}\n",
       "\n",
       "#sk-container-id-4 div.sk-dashed-wrapped {\n",
       "  border: 1px dashed var(--sklearn-color-line);\n",
       "  margin: 0 0.4em 0.5em 0.4em;\n",
       "  box-sizing: border-box;\n",
       "  padding-bottom: 0.4em;\n",
       "  background-color: var(--sklearn-color-background);\n",
       "}\n",
       "\n",
       "#sk-container-id-4 div.sk-container {\n",
       "  /* jupyter's `normalize.less` sets `[hidden] { display: none; }`\n",
       "     but bootstrap.min.css set `[hidden] { display: none !important; }`\n",
       "     so we also need the `!important` here to be able to override the\n",
       "     default hidden behavior on the sphinx rendered scikit-learn.org.\n",
       "     See: https://github.com/scikit-learn/scikit-learn/issues/21755 */\n",
       "  display: inline-block !important;\n",
       "  position: relative;\n",
       "}\n",
       "\n",
       "#sk-container-id-4 div.sk-text-repr-fallback {\n",
       "  display: none;\n",
       "}\n",
       "\n",
       "div.sk-parallel-item,\n",
       "div.sk-serial,\n",
       "div.sk-item {\n",
       "  /* draw centered vertical line to link estimators */\n",
       "  background-image: linear-gradient(var(--sklearn-color-text-on-default-background), var(--sklearn-color-text-on-default-background));\n",
       "  background-size: 2px 100%;\n",
       "  background-repeat: no-repeat;\n",
       "  background-position: center center;\n",
       "}\n",
       "\n",
       "/* Parallel-specific style estimator block */\n",
       "\n",
       "#sk-container-id-4 div.sk-parallel-item::after {\n",
       "  content: \"\";\n",
       "  width: 100%;\n",
       "  border-bottom: 2px solid var(--sklearn-color-text-on-default-background);\n",
       "  flex-grow: 1;\n",
       "}\n",
       "\n",
       "#sk-container-id-4 div.sk-parallel {\n",
       "  display: flex;\n",
       "  align-items: stretch;\n",
       "  justify-content: center;\n",
       "  background-color: var(--sklearn-color-background);\n",
       "  position: relative;\n",
       "}\n",
       "\n",
       "#sk-container-id-4 div.sk-parallel-item {\n",
       "  display: flex;\n",
       "  flex-direction: column;\n",
       "}\n",
       "\n",
       "#sk-container-id-4 div.sk-parallel-item:first-child::after {\n",
       "  align-self: flex-end;\n",
       "  width: 50%;\n",
       "}\n",
       "\n",
       "#sk-container-id-4 div.sk-parallel-item:last-child::after {\n",
       "  align-self: flex-start;\n",
       "  width: 50%;\n",
       "}\n",
       "\n",
       "#sk-container-id-4 div.sk-parallel-item:only-child::after {\n",
       "  width: 0;\n",
       "}\n",
       "\n",
       "/* Serial-specific style estimator block */\n",
       "\n",
       "#sk-container-id-4 div.sk-serial {\n",
       "  display: flex;\n",
       "  flex-direction: column;\n",
       "  align-items: center;\n",
       "  background-color: var(--sklearn-color-background);\n",
       "  padding-right: 1em;\n",
       "  padding-left: 1em;\n",
       "}\n",
       "\n",
       "\n",
       "/* Toggleable style: style used for estimator/Pipeline/ColumnTransformer box that is\n",
       "clickable and can be expanded/collapsed.\n",
       "- Pipeline and ColumnTransformer use this feature and define the default style\n",
       "- Estimators will overwrite some part of the style using the `sk-estimator` class\n",
       "*/\n",
       "\n",
       "/* Pipeline and ColumnTransformer style (default) */\n",
       "\n",
       "#sk-container-id-4 div.sk-toggleable {\n",
       "  /* Default theme specific background. It is overwritten whether we have a\n",
       "  specific estimator or a Pipeline/ColumnTransformer */\n",
       "  background-color: var(--sklearn-color-background);\n",
       "}\n",
       "\n",
       "/* Toggleable label */\n",
       "#sk-container-id-4 label.sk-toggleable__label {\n",
       "  cursor: pointer;\n",
       "  display: flex;\n",
       "  width: 100%;\n",
       "  margin-bottom: 0;\n",
       "  padding: 0.5em;\n",
       "  box-sizing: border-box;\n",
       "  text-align: center;\n",
       "  align-items: start;\n",
       "  justify-content: space-between;\n",
       "  gap: 0.5em;\n",
       "}\n",
       "\n",
       "#sk-container-id-4 label.sk-toggleable__label .caption {\n",
       "  font-size: 0.6rem;\n",
       "  font-weight: lighter;\n",
       "  color: var(--sklearn-color-text-muted);\n",
       "}\n",
       "\n",
       "#sk-container-id-4 label.sk-toggleable__label-arrow:before {\n",
       "  /* Arrow on the left of the label */\n",
       "  content: \"▸\";\n",
       "  float: left;\n",
       "  margin-right: 0.25em;\n",
       "  color: var(--sklearn-color-icon);\n",
       "}\n",
       "\n",
       "#sk-container-id-4 label.sk-toggleable__label-arrow:hover:before {\n",
       "  color: var(--sklearn-color-text);\n",
       "}\n",
       "\n",
       "/* Toggleable content - dropdown */\n",
       "\n",
       "#sk-container-id-4 div.sk-toggleable__content {\n",
       "  max-height: 0;\n",
       "  max-width: 0;\n",
       "  overflow: hidden;\n",
       "  text-align: left;\n",
       "  /* unfitted */\n",
       "  background-color: var(--sklearn-color-unfitted-level-0);\n",
       "}\n",
       "\n",
       "#sk-container-id-4 div.sk-toggleable__content.fitted {\n",
       "  /* fitted */\n",
       "  background-color: var(--sklearn-color-fitted-level-0);\n",
       "}\n",
       "\n",
       "#sk-container-id-4 div.sk-toggleable__content pre {\n",
       "  margin: 0.2em;\n",
       "  border-radius: 0.25em;\n",
       "  color: var(--sklearn-color-text);\n",
       "  /* unfitted */\n",
       "  background-color: var(--sklearn-color-unfitted-level-0);\n",
       "}\n",
       "\n",
       "#sk-container-id-4 div.sk-toggleable__content.fitted pre {\n",
       "  /* unfitted */\n",
       "  background-color: var(--sklearn-color-fitted-level-0);\n",
       "}\n",
       "\n",
       "#sk-container-id-4 input.sk-toggleable__control:checked~div.sk-toggleable__content {\n",
       "  /* Expand drop-down */\n",
       "  max-height: 200px;\n",
       "  max-width: 100%;\n",
       "  overflow: auto;\n",
       "}\n",
       "\n",
       "#sk-container-id-4 input.sk-toggleable__control:checked~label.sk-toggleable__label-arrow:before {\n",
       "  content: \"▾\";\n",
       "}\n",
       "\n",
       "/* Pipeline/ColumnTransformer-specific style */\n",
       "\n",
       "#sk-container-id-4 div.sk-label input.sk-toggleable__control:checked~label.sk-toggleable__label {\n",
       "  color: var(--sklearn-color-text);\n",
       "  background-color: var(--sklearn-color-unfitted-level-2);\n",
       "}\n",
       "\n",
       "#sk-container-id-4 div.sk-label.fitted input.sk-toggleable__control:checked~label.sk-toggleable__label {\n",
       "  background-color: var(--sklearn-color-fitted-level-2);\n",
       "}\n",
       "\n",
       "/* Estimator-specific style */\n",
       "\n",
       "/* Colorize estimator box */\n",
       "#sk-container-id-4 div.sk-estimator input.sk-toggleable__control:checked~label.sk-toggleable__label {\n",
       "  /* unfitted */\n",
       "  background-color: var(--sklearn-color-unfitted-level-2);\n",
       "}\n",
       "\n",
       "#sk-container-id-4 div.sk-estimator.fitted input.sk-toggleable__control:checked~label.sk-toggleable__label {\n",
       "  /* fitted */\n",
       "  background-color: var(--sklearn-color-fitted-level-2);\n",
       "}\n",
       "\n",
       "#sk-container-id-4 div.sk-label label.sk-toggleable__label,\n",
       "#sk-container-id-4 div.sk-label label {\n",
       "  /* The background is the default theme color */\n",
       "  color: var(--sklearn-color-text-on-default-background);\n",
       "}\n",
       "\n",
       "/* On hover, darken the color of the background */\n",
       "#sk-container-id-4 div.sk-label:hover label.sk-toggleable__label {\n",
       "  color: var(--sklearn-color-text);\n",
       "  background-color: var(--sklearn-color-unfitted-level-2);\n",
       "}\n",
       "\n",
       "/* Label box, darken color on hover, fitted */\n",
       "#sk-container-id-4 div.sk-label.fitted:hover label.sk-toggleable__label.fitted {\n",
       "  color: var(--sklearn-color-text);\n",
       "  background-color: var(--sklearn-color-fitted-level-2);\n",
       "}\n",
       "\n",
       "/* Estimator label */\n",
       "\n",
       "#sk-container-id-4 div.sk-label label {\n",
       "  font-family: monospace;\n",
       "  font-weight: bold;\n",
       "  display: inline-block;\n",
       "  line-height: 1.2em;\n",
       "}\n",
       "\n",
       "#sk-container-id-4 div.sk-label-container {\n",
       "  text-align: center;\n",
       "}\n",
       "\n",
       "/* Estimator-specific */\n",
       "#sk-container-id-4 div.sk-estimator {\n",
       "  font-family: monospace;\n",
       "  border: 1px dotted var(--sklearn-color-border-box);\n",
       "  border-radius: 0.25em;\n",
       "  box-sizing: border-box;\n",
       "  margin-bottom: 0.5em;\n",
       "  /* unfitted */\n",
       "  background-color: var(--sklearn-color-unfitted-level-0);\n",
       "}\n",
       "\n",
       "#sk-container-id-4 div.sk-estimator.fitted {\n",
       "  /* fitted */\n",
       "  background-color: var(--sklearn-color-fitted-level-0);\n",
       "}\n",
       "\n",
       "/* on hover */\n",
       "#sk-container-id-4 div.sk-estimator:hover {\n",
       "  /* unfitted */\n",
       "  background-color: var(--sklearn-color-unfitted-level-2);\n",
       "}\n",
       "\n",
       "#sk-container-id-4 div.sk-estimator.fitted:hover {\n",
       "  /* fitted */\n",
       "  background-color: var(--sklearn-color-fitted-level-2);\n",
       "}\n",
       "\n",
       "/* Specification for estimator info (e.g. \"i\" and \"?\") */\n",
       "\n",
       "/* Common style for \"i\" and \"?\" */\n",
       "\n",
       ".sk-estimator-doc-link,\n",
       "a:link.sk-estimator-doc-link,\n",
       "a:visited.sk-estimator-doc-link {\n",
       "  float: right;\n",
       "  font-size: smaller;\n",
       "  line-height: 1em;\n",
       "  font-family: monospace;\n",
       "  background-color: var(--sklearn-color-background);\n",
       "  border-radius: 1em;\n",
       "  height: 1em;\n",
       "  width: 1em;\n",
       "  text-decoration: none !important;\n",
       "  margin-left: 0.5em;\n",
       "  text-align: center;\n",
       "  /* unfitted */\n",
       "  border: var(--sklearn-color-unfitted-level-1) 1pt solid;\n",
       "  color: var(--sklearn-color-unfitted-level-1);\n",
       "}\n",
       "\n",
       ".sk-estimator-doc-link.fitted,\n",
       "a:link.sk-estimator-doc-link.fitted,\n",
       "a:visited.sk-estimator-doc-link.fitted {\n",
       "  /* fitted */\n",
       "  border: var(--sklearn-color-fitted-level-1) 1pt solid;\n",
       "  color: var(--sklearn-color-fitted-level-1);\n",
       "}\n",
       "\n",
       "/* On hover */\n",
       "div.sk-estimator:hover .sk-estimator-doc-link:hover,\n",
       ".sk-estimator-doc-link:hover,\n",
       "div.sk-label-container:hover .sk-estimator-doc-link:hover,\n",
       ".sk-estimator-doc-link:hover {\n",
       "  /* unfitted */\n",
       "  background-color: var(--sklearn-color-unfitted-level-3);\n",
       "  color: var(--sklearn-color-background);\n",
       "  text-decoration: none;\n",
       "}\n",
       "\n",
       "div.sk-estimator.fitted:hover .sk-estimator-doc-link.fitted:hover,\n",
       ".sk-estimator-doc-link.fitted:hover,\n",
       "div.sk-label-container:hover .sk-estimator-doc-link.fitted:hover,\n",
       ".sk-estimator-doc-link.fitted:hover {\n",
       "  /* fitted */\n",
       "  background-color: var(--sklearn-color-fitted-level-3);\n",
       "  color: var(--sklearn-color-background);\n",
       "  text-decoration: none;\n",
       "}\n",
       "\n",
       "/* Span, style for the box shown on hovering the info icon */\n",
       ".sk-estimator-doc-link span {\n",
       "  display: none;\n",
       "  z-index: 9999;\n",
       "  position: relative;\n",
       "  font-weight: normal;\n",
       "  right: .2ex;\n",
       "  padding: .5ex;\n",
       "  margin: .5ex;\n",
       "  width: min-content;\n",
       "  min-width: 20ex;\n",
       "  max-width: 50ex;\n",
       "  color: var(--sklearn-color-text);\n",
       "  box-shadow: 2pt 2pt 4pt #999;\n",
       "  /* unfitted */\n",
       "  background: var(--sklearn-color-unfitted-level-0);\n",
       "  border: .5pt solid var(--sklearn-color-unfitted-level-3);\n",
       "}\n",
       "\n",
       ".sk-estimator-doc-link.fitted span {\n",
       "  /* fitted */\n",
       "  background: var(--sklearn-color-fitted-level-0);\n",
       "  border: var(--sklearn-color-fitted-level-3);\n",
       "}\n",
       "\n",
       ".sk-estimator-doc-link:hover span {\n",
       "  display: block;\n",
       "}\n",
       "\n",
       "/* \"?\"-specific style due to the `<a>` HTML tag */\n",
       "\n",
       "#sk-container-id-4 a.estimator_doc_link {\n",
       "  float: right;\n",
       "  font-size: 1rem;\n",
       "  line-height: 1em;\n",
       "  font-family: monospace;\n",
       "  background-color: var(--sklearn-color-background);\n",
       "  border-radius: 1rem;\n",
       "  height: 1rem;\n",
       "  width: 1rem;\n",
       "  text-decoration: none;\n",
       "  /* unfitted */\n",
       "  color: var(--sklearn-color-unfitted-level-1);\n",
       "  border: var(--sklearn-color-unfitted-level-1) 1pt solid;\n",
       "}\n",
       "\n",
       "#sk-container-id-4 a.estimator_doc_link.fitted {\n",
       "  /* fitted */\n",
       "  border: var(--sklearn-color-fitted-level-1) 1pt solid;\n",
       "  color: var(--sklearn-color-fitted-level-1);\n",
       "}\n",
       "\n",
       "/* On hover */\n",
       "#sk-container-id-4 a.estimator_doc_link:hover {\n",
       "  /* unfitted */\n",
       "  background-color: var(--sklearn-color-unfitted-level-3);\n",
       "  color: var(--sklearn-color-background);\n",
       "  text-decoration: none;\n",
       "}\n",
       "\n",
       "#sk-container-id-4 a.estimator_doc_link.fitted:hover {\n",
       "  /* fitted */\n",
       "  background-color: var(--sklearn-color-fitted-level-3);\n",
       "}\n",
       "</style><div id=\"sk-container-id-4\" class=\"sk-top-container\"><div class=\"sk-text-repr-fallback\"><pre>LinearRegression()</pre><b>In a Jupyter environment, please rerun this cell to show the HTML representation or trust the notebook. <br />On GitHub, the HTML representation is unable to render, please try loading this page with nbviewer.org.</b></div><div class=\"sk-container\" hidden><div class=\"sk-item\"><div class=\"sk-estimator fitted sk-toggleable\"><input class=\"sk-toggleable__control sk-hidden--visually\" id=\"sk-estimator-id-4\" type=\"checkbox\" checked><label for=\"sk-estimator-id-4\" class=\"sk-toggleable__label fitted sk-toggleable__label-arrow\"><div><div>LinearRegression</div></div><div><a class=\"sk-estimator-doc-link fitted\" rel=\"noreferrer\" target=\"_blank\" href=\"https://scikit-learn.org/1.6/modules/generated/sklearn.linear_model.LinearRegression.html\">?<span>Documentation for LinearRegression</span></a><span class=\"sk-estimator-doc-link fitted\">i<span>Fitted</span></span></div></label><div class=\"sk-toggleable__content fitted\"><pre>LinearRegression()</pre></div> </div></div></div></div>"
      ],
      "text/plain": [
       "LinearRegression()"
      ]
     },
     "execution_count": 54,
     "metadata": {},
     "output_type": "execute_result"
    }
   ],
   "source": [
    "model = LinearRegression()\n",
    "model.fit(x,y)"
   ]
  },
  {
   "cell_type": "code",
   "execution_count": 57,
   "id": "e680f40c-df57-4592-ba35-79f65db74bf4",
   "metadata": {},
   "outputs": [
    {
     "data": {
      "text/plain": [
       "<function matplotlib.pyplot.show(close=None, block=None)>"
      ]
     },
     "execution_count": 57,
     "metadata": {},
     "output_type": "execute_result"
    },
    {
     "data": {
      "image/png": "[encoded data removed]",
      "text/plain": [
       "<Figure size 640x480 with 1 Axes>"
      ]
     },
     "metadata": {},
     "output_type": "display_data"
    }
   ],
   "source": [
    "plt.scatter(x,y,color= 'Red')\n",
    "plt.title(\"Years of Experience vs salary\")\n",
    "plt.xlabel('Years of Experience')\n",
    "plt.ylabel('salary')\n",
    "plt.show"
   ]
  },
  {
   "cell_type": "code",
   "execution_count": 58,
   "id": "ef50817d-d471-437c-99c8-817b84664d4b",
   "metadata": {},
   "outputs": [
    {
     "name": "stdout",
     "output_type": "stream",
     "text": [
      "coefficients: [6844.50970658]\n",
      "intercept: 31922.348636559036\n"
     ]
    }
   ],
   "source": [
    "print(\"coefficients:\",model.coef_)\n",
    "print(\"intercept:\",model.intercept_)"
   ]
  },
  {
   "cell_type": "code",
   "execution_count": 59,
   "id": "176b7e38-019d-4cde-88c6-bc858650d430",
   "metadata": {},
   "outputs": [
    {
     "name": "stdout",
     "output_type": "stream",
     "text": [
      "[100367.44570233]\n"
     ]
    },
    {
     "name": "stderr",
     "output_type": "stream",
     "text": [
      "C:\\Users\\vijay\\anaconda3\\Lib\\site-packages\\sklearn\\utils\\validation.py:2739: UserWarning: X does not have valid feature names, but LinearRegression was fitted with feature names\n",
      "  warnings.warn(\n"
     ]
    }
   ],
   "source": [
    "predicted_salary = model.predict([[10]])\n",
    "print(predicted_salary)"
   ]
  },
  {
   "cell_type": "code",
   "execution_count": 61,
   "id": "aa8f3f6d-2d27-4693-9d9e-b00ebda396d9",
   "metadata": {},
   "outputs": [
    {
     "name": "stdout",
     "output_type": "stream",
     "text": [
      "[ 66144.89716945  52455.87775629 134589.99423522  79833.9165826\n",
      " 168812.5427681   45611.36804971 114056.46511549  59300.38746287\n",
      "  38766.85834314 100367.44570233  52455.87775629 155123.52335495\n",
      "  72989.40687602 127745.48452864  45611.36804971 141434.5039418\n",
      "  79833.9165826  114056.46511549  31922.34863656 182501.56218126\n",
      "  66144.89716945 161968.03306153  45611.36804971  93522.93599575\n",
      " 120900.97482206  52455.87775629 107211.95540891  38766.85834314\n",
      " 134589.99423522  72989.40687602 203035.09130099  59300.38746287\n",
      "  52455.87775629 100367.44570233 168812.5427681   45611.36804971\n",
      "  79833.9165826  127745.48452864  38766.85834314 175657.05247468\n",
      "  66144.89716945 155123.52335495  52455.87775629  86678.42628918\n",
      " 120900.97482206  45611.36804971  66144.89716945 141434.5039418\n",
      " 107211.95540891  31922.34863656 182501.56218126  79833.9165826\n",
      " 114056.46511549 161968.03306153  52455.87775629  93522.93599575\n",
      "  45611.36804971 148279.01364837  59300.38746287  79833.9165826\n",
      " 189346.07188784  52455.87775629 114056.46511549 175657.05247468\n",
      "  38766.85834314 100367.44570233 161968.03306153  66144.89716945\n",
      "  86678.42628918 155123.52335495  72989.40687602 107211.95540891\n",
      " 141434.5039418   45611.36804971 127745.48452864 100367.44570233\n",
      " 182501.56218126  72989.40687602 168812.5427681   52455.87775629\n",
      "  86678.42628918 120900.97482206  31922.34863656 196190.58159441\n",
      "  45611.36804971 100367.44570233  45611.36804971 134589.99423522\n",
      " 175657.05247468  72989.40687602 107211.95540891  52455.87775629\n",
      " 155123.52335495 203035.09130099  79833.9165826  114056.46511549\n",
      " 182501.56218126  38766.85834314 100367.44570233 168812.5427681\n",
      "  66144.89716945  86678.42628918 161968.03306153  66144.89716945\n",
      " 120900.97482206 141434.5039418   52455.87775629  79833.9165826\n",
      " 127745.48452864  45611.36804971 134589.99423522  93522.93599575\n",
      " 182501.56218126  72989.40687602  35344.60348985  72989.40687602\n",
      " 134589.99423522 168812.5427681   52455.87775629 100367.44570233\n",
      " 148279.01364837 203035.09130099  66144.89716945 107211.95540891\n",
      " 141434.5039418   45611.36804971  93522.93599575 155123.52335495\n",
      "  59300.38746287  86678.42628918 175657.05247468  52455.87775629\n",
      " 114056.46511549 182501.56218126  38766.85834314 100367.44570233\n",
      " 161968.03306153  59300.38746287  79833.9165826  127745.48452864\n",
      "  45611.36804971 120900.97482206  66144.89716945 168812.5427681\n",
      "  42189.11319642  86678.42628918 141434.5039418   59300.38746287\n",
      " 100367.44570233 161968.03306153  52455.87775629 107211.95540891\n",
      " 155123.52335495  45611.36804971  93522.93599575 127745.48452864\n",
      "  66144.89716945  79833.9165826  189346.07188784  45611.36804971\n",
      " 114056.46511549 175657.05247468  52455.87775629  79833.9165826\n",
      " 120900.97482206  42189.11319642 127745.48452864 155123.52335495\n",
      "  59300.38746287  93522.93599575 168812.5427681   45611.36804971\n",
      " 100367.44570233 141434.5039418   42189.11319642  79833.9165826\n",
      " 155123.52335495  59300.38746287 100367.44570233 168812.5427681\n",
      "  45611.36804971  93522.93599575 134589.99423522  45611.36804971\n",
      "  86678.42628918 127745.48452864  72989.40687602  93522.93599575\n",
      " 182501.56218126  42189.11319642 114056.46511549 161968.03306153\n",
      "  52455.87775629  79833.9165826  120900.97482206  45611.36804971\n",
      " 107211.95540891 148279.01364837  66144.89716945  93522.93599575\n",
      " 175657.05247468  52455.87775629 141434.5039418   42189.11319642\n",
      "  79833.9165826  148279.01364837  59300.38746287 100367.44570233\n",
      " 168812.5427681   45611.36804971  93522.93599575 134589.99423522\n",
      "  45611.36804971  86678.42628918 127745.48452864  72989.40687602\n",
      "  93522.93599575 182501.56218126  42189.11319642 114056.46511549\n",
      " 161968.03306153  52455.87775629  79833.9165826  120900.97482206\n",
      "  45611.36804971 107211.95540891 155123.52335495  66144.89716945\n",
      "  93522.93599575 175657.05247468  52455.87775629 134589.99423522\n",
      "  42189.11319642  86678.42628918 120900.97482206  52455.87775629\n",
      "  93522.93599575 141434.5039418   66144.89716945 100367.44570233\n",
      " 155123.52335495  42189.11319642 100367.44570233 161968.03306153\n",
      "  72989.40687602  86678.42628918 175657.05247468  52455.87775629\n",
      " 107211.95540891 168812.5427681   45611.36804971  93522.93599575\n",
      " 134589.99423522  45611.36804971  86678.42628918 127745.48452864\n",
      "  72989.40687602  93522.93599575 182501.56218126  42189.11319642\n",
      " 100367.44570233 100367.44570233 155123.52335495  52455.87775629\n",
      " 114056.46511549  42189.11319642  86678.42628918 134589.99423522\n",
      "  59300.38746287  93522.93599575 141434.5039418   59300.38746287\n",
      "  86678.42628918 168812.5427681   45611.36804971  93522.93599575\n",
      " 148279.01364837  66144.89716945  86678.42628918 175657.05247468\n",
      "  52455.87775629 107211.95540891 161968.03306153  42189.11319642\n",
      "  93522.93599575 134589.99423522  59300.38746287  86678.42628918\n",
      " 120900.97482206  59300.38746287 100367.44570233 175657.05247468\n",
      "  45611.36804971  79833.9165826  127745.48452864  59300.38746287\n",
      " 114056.46511549 141434.5039418   45611.36804971  93522.93599575\n",
      " 168812.5427681   52455.87775629  93522.93599575 141434.5039418\n",
      "  66144.89716945  86678.42628918 175657.05247468  52455.87775629\n",
      " 114056.46511549 161968.03306153  42189.11319642  93522.93599575\n",
      " 134589.99423522  59300.38746287  86678.42628918 120900.97482206\n",
      "  72989.40687602  86678.42628918  45611.36804971 100367.44570233\n",
      " 141434.5039418   59300.38746287 114056.46511549 168812.5427681\n",
      "  45611.36804971  93522.93599575 134589.99423522  52455.87775629\n",
      " 100367.44570233 175657.05247468  52455.87775629 114056.46511549\n",
      " 141434.5039418   59300.38746287  86678.42628918 161968.03306153\n",
      "  45611.36804971  79833.9165826  134589.99423522  66144.89716945\n",
      "  86678.42628918 155123.52335495  52455.87775629 127745.48452864\n",
      " 141434.5039418   59300.38746287  86678.42628918 161968.03306153\n",
      "  38766.85834314  86678.42628918 141434.5039418   52455.87775629\n",
      " 100367.44570233 175657.05247468  52455.87775629 114056.46511549\n",
      " 141434.5039418   59300.38746287  86678.42628918 161968.03306153\n",
      "  45611.36804971  79833.9165826  134589.99423522  66144.89716945\n",
      "  86678.42628918 155123.52335495  52455.87775629 127745.48452864\n",
      " 141434.5039418   59300.38746287  86678.42628918 161968.03306153\n",
      "  45611.36804971  79833.9165826  134589.99423522]\n"
     ]
    }
   ],
   "source": [
    "predicted = model.predict(x)\n",
    "print(predicted)"
   ]
  },
  {
   "cell_type": "code",
   "execution_count": 63,
   "id": "6322774a-17b4-4cd7-9e63-b19dcdcf7350",
   "metadata": {},
   "outputs": [
    {
     "data": {
      "text/plain": [
       "<function matplotlib.pyplot.show(close=None, block=None)>"
      ]
     },
     "execution_count": 63,
     "metadata": {},
     "output_type": "execute_result"
    },
    {
     "data": {
      "image/png": "[encoded data removed]",
      "text/plain": [
       "<Figure size 640x480 with 1 Axes>"
      ]
     },
     "metadata": {},
     "output_type": "display_data"
    }
   ],
   "source": [
    "plt.scatter(x,y,color= 'blue')\n",
    "plt.plot(x,predicted,color ='red')\n",
    "plt.title(\"Years of Experience vs salary\")\n",
    "plt.xlabel('Years of Experience')\n",
    "plt.ylabel('salary')\n",
    "plt.show"
   ]
  },
  {
   "cell_type": "markdown",
   "id": "b6df5863-fcad-49d0-8b01-9bece3fbd80d",
   "metadata": {},
   "source": [
    "### summary for 6th question"
   ]
  },
  {
   "cell_type": "code",
   "execution_count": null,
   "id": "3621acc8-5438-49e6-913f-a4ebb21899f1",
   "metadata": {},
   "outputs": [],
   "source": [
    "####\n",
    "1. downloaded salary data set from kaggle\n",
    "2. cleaned the data using mean,median\n",
    "3. selected one  numeric  value as feature(input) and salary as output\n",
    "4.x = Years of experince,y= salary\n",
    "5. fitted x,y in linearRegression model\n",
    "6.visulaized the data\n",
    "7.coefficients: [6844.50970658]\n",
    "8.intercept: 31922.348636559036\n",
    "9. predicted linearRegesssion with random x value to plot  linearRegression line\n",
    "####"
   ]
  }
 ],
 "metadata": {
  "kernelspec": {
   "display_name": "Python 3 (ipykernel)",
   "language": "python",
   "name": "python3"
  },
  "language_info": {
   "codemirror_mode": {
    "name": "ipython",
    "version": 3
   },
   "file_extension": ".py",
   "mimetype": "text/x-python",
   "name": "python",
   "nbconvert_exporter": "python",
   "pygments_lexer": "ipython3",
   "version": "3.13.5"
  }
 },
 "nbformat": 4,
 "nbformat_minor": 5
}
